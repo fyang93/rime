{
 "cells": [
  {
   "cell_type": "markdown",
   "metadata": {},
   "source": [
    "# 通用函数"
   ]
  },
  {
   "cell_type": "code",
   "execution_count": 20,
   "metadata": {},
   "outputs": [],
   "source": [
    "import re\n",
    "from collections import defaultdict\n",
    "from itertools import groupby\n",
    "\n",
    "first = {'ch': 'i',\n",
    "         'sh': 'u',\n",
    "         'zh': 'v'}\n",
    "\n",
    "second = {\n",
    "    'ua': 'w',\n",
    "    'ei': 'z',\n",
    "    'e': 'e',\n",
    "    'ou': 'b',\n",
    "    'iu': 'q',\n",
    "    've': 't',\n",
    "    'ue': 't',\n",
    "    'u': 'u',\n",
    "    'i': 'i',\n",
    "    'o': 'o',\n",
    "    'uo': 'o',\n",
    "    'ie': 'x',\n",
    "    'a': 'a',\n",
    "    'ong': 's',\n",
    "    'iong': 's',\n",
    "    'ai': 'l',\n",
    "    'ing': 'y',\n",
    "    'uai': 'y',\n",
    "    'ang': 'h',\n",
    "    'uan': 'r',\n",
    "    'an': 'j',\n",
    "    'en': 'f',\n",
    "    'ia': 'w',\n",
    "    'iang': 'd',\n",
    "    'uang': 'd',\n",
    "    'eng': 'g',\n",
    "    'in': 'n',\n",
    "    'ao': 'k',\n",
    "    'v': 'v',\n",
    "    'ui': 'v',\n",
    "    'un': 'p',\n",
    "    'iao': 'c',\n",
    "    'ian': 'm'\n",
    "}\n",
    "\n",
    "# 特殊，只有䪨母，且总长不过 3\n",
    "# 零声母，单双三䪨母\n",
    "special = {\n",
    "    'a': 'aa',\n",
    "    'ai': 'ai',\n",
    "    'an': 'an',\n",
    "    'ang': 'ah',\n",
    "    'ao': 'ao',\n",
    "    'e': 'ee',\n",
    "    'ei': 'ei',\n",
    "    'en': 'en',\n",
    "    'er': 'er',\n",
    "    'o': 'oo',\n",
    "    'ong': 'os', # 唵\n",
    "    'ou': 'ou'\n",
    "}\n",
    "\n",
    "def to_double(s: str) -> str:\n",
    "    \"\"\"\n",
    "    传入单汉字的全拼编码，反回其自然码双拼编码\n",
    "\n",
    "    :param s: 全拼编码\n",
    "    :return: 双拼编码\n",
    "    \"\"\"\n",
    "    new_s = ''\n",
    "    # 特列情况: 无声母，a, an, ang\n",
    "    if len(s) <= 3 and s[0] in ['a', 'e', 'o']:\n",
    "        if s in special.keys():\n",
    "            return special[s]\n",
    "        else:\n",
    "            print('未知情况1', s)\n",
    "\n",
    "    # 一般: 声母 + 䪨母\n",
    "\n",
    "    # 最长的情况：first+second，例如 chuang = ch + uang\n",
    "    # 2 位声母 + 最多 4 位韵母\n",
    "    if s[:2] in first.keys():\n",
    "        new_s += first[s[:2]]\n",
    "        # 最多 4 位䪨母\n",
    "        if s[2:] in second.keys():\n",
    "            new_s += second[s[2:]]\n",
    "    # 较短的情况：second+second，例如 h uang, x iang\n",
    "    # 1 位声母 + 最多 4 位䪨母\n",
    "    else:\n",
    "        new_s += s[0]  # 1 位声母\n",
    "        # 最多 4 位䪨母\n",
    "        if s[1:] in second.keys():\n",
    "            new_s += second[s[1:]]\n",
    "        else:\n",
    "            new_s += s[1:]\n",
    "\n",
    "    return new_s\n",
    "\n",
    "\n",
    "pattern = re.compile(r'^[a-zA-Z\"]+$')\n",
    "def is_en(text):\n",
    "    return bool(pattern.match(text))\n",
    "\n",
    "# 中文分成每一个字，英文分成一个单词\n",
    "def split_zh_en(text):\n",
    "    pattern = re.compile(r'[^a-zA-Z]|[a-zA-Z]+')\n",
    "    return pattern.findall(text)"
   ]
  },
  {
   "cell_type": "markdown",
   "metadata": {},
   "source": [
    "# 构造自然码+鹤形码表"
   ]
  },
  {
   "cell_type": "code",
   "execution_count": 24,
   "metadata": {},
   "outputs": [
    {
     "name": "stdout",
     "output_type": "stream",
     "text": [
      "0个字的辅助码缺失：set()\n",
      "0个字存在多个辅助码：set()\n"
     ]
    }
   ],
   "source": [
    "standard = set()\n",
    "\n",
    "with open('dicts/8105.dict.yaml') as f:\n",
    "    for line in f:\n",
    "        line = line.rstrip()\n",
    "        if re.match(r'^.\\t\\w+\\t\\d+$', line):\n",
    "            char, _, _ = line.split()\n",
    "            standard.add(char)\n",
    "\n",
    "xhe_codes = defaultdict(set)\n",
    "\n",
    "with open('dicts/flypy_flypy.dict.yaml', 'r', encoding='utf-8') as f:\n",
    "    for line in f:\n",
    "        line = line.rstrip()\n",
    "        if re.match(r'^.\\t[\\w\\[]+.*$', line):\n",
    "            char, code = line.split('\\t')[:2]\n",
    "            if char not in standard:\n",
    "                continue\n",
    "            code = code[code.rfind('[')+1:]\n",
    "            if code:\n",
    "                xhe_codes[char].add(code)\n",
    "\n",
    "missing = set()\n",
    "multiple = set()\n",
    "predefined = \"\"\"---\n",
    "name: zrm\n",
    "version: \"1.0\"\n",
    "sort: by_weight  \n",
    "use_preset_vocabulary: true\n",
    "min_phrase_weight: 100\n",
    "import_tables:\n",
    "  - ./dicts/custom\n",
    "  - ./dicts/base\n",
    "  - ./dicts/ext\n",
    "...\n",
    "\n",
    "\"\"\"\n",
    "\n",
    "with open('../zrm.dict.yaml', 'w') as f1, open('dicts/8105.dict.yaml') as f2:\n",
    "    f1.write(predefined)\n",
    "    for line in f2:\n",
    "        line = line.rstrip()\n",
    "        if re.match(r'^.\\t\\w+\\t\\d+$', line):\n",
    "            char, pinyin, freq = line.split()\n",
    "            if char in xhe_codes:\n",
    "                if len(xhe_codes[char]) > 1:\n",
    "                    multiple.add(char)\n",
    "                for code in xhe_codes[char]:\n",
    "                    f1.write(f\"{char}\\t{to_double(pinyin)};{code}\\t{freq}\\n\")\n",
    "            else:\n",
    "                missing.add(char)\n",
    "                f1.write(f\"{char}\\t{to_double(pinyin)}\\t{freq}\\n\")\n",
    "\n",
    "print(f\"{len(missing)}个字的辅助码缺失：{missing}\")\n",
    "print(f\"{len(multiple)}个字存在多个辅助码：{multiple}\")"
   ]
  },
  {
   "cell_type": "markdown",
   "metadata": {},
   "source": [
    "# 词库转换准备"
   ]
  },
  {
   "cell_type": "code",
   "execution_count": 25,
   "metadata": {},
   "outputs": [],
   "source": [
    "zrm_phones = defaultdict(list)\n",
    "zrm_codes = {}\n",
    "zrm_path = '../zrm.dict.yaml'\n",
    "\n",
    "with open(zrm_path) as f:\n",
    "  for line in f:\n",
    "    if len(line.split('\\t')) != 3:\n",
    "      continue\n",
    "    char, code = line.rstrip().split('\\t')[:2]\n",
    "    yin, xing = code.split(';')\n",
    "    zrm_phones[char].append(yin)\n",
    "    zrm_codes[char] = xing\n",
    "\n",
    "def convert_pinyin(infile, outfile):\n",
    "  with open(infile) as f1, open(outfile, 'w') as f2:\n",
    "    for line in f1:\n",
    "      if not re.match(r'^.+\\t.+(\\t\\d+)*$', line):\n",
    "        f2.write(line)\n",
    "        continue\n",
    "      parts = line.rstrip().split('\\t')\n",
    "      chars, phones = split_zh_en(parts[0]), parts[1].split(' ')\n",
    "      if len(chars) < 1:  # 排除单字\n",
    "        continue\n",
    "      if not all(is_en(char) or (char in zrm_phones and to_double(phone) in zrm_phones[char]) for char,phone in zip(chars, phones)):  # 存在词库读音与字库设置读音不符\n",
    "          continue\n",
    "      doubled = (phone if is_en(char) else to_double(phone) + ';' + zrm_codes[char] for char,phone in zip(chars, phones))\n",
    "      if len(parts) < 3:\n",
    "        f2.write(''.join(chars) + '\\t' + ' '.join(doubled) + '\\n')\n",
    "      else:\n",
    "        freq = parts[2]\n",
    "        f2.write(''.join(chars) + '\\t' + ' '.join(doubled) + '\\t' + freq + '\\n')"
   ]
  },
  {
   "cell_type": "markdown",
   "metadata": {},
   "source": [
    "# 搜狗词库转换"
   ]
  },
  {
   "cell_type": "code",
   "execution_count": null,
   "metadata": {},
   "outputs": [],
   "source": [
    "!python ./scel.py"
   ]
  },
  {
   "cell_type": "code",
   "execution_count": null,
   "metadata": {},
   "outputs": [],
   "source": [
    "convert_pinyin('./out/luna_pinyin.sogou.dict.yaml', '../dicts/sogou.dict.yaml')"
   ]
  },
  {
   "cell_type": "markdown",
   "metadata": {},
   "source": [
    "# 自定义词库转换"
   ]
  },
  {
   "cell_type": "code",
   "execution_count": 26,
   "metadata": {},
   "outputs": [],
   "source": [
    "convert_pinyin('./dicts/custom.dict.yaml', '../dicts/custom.dict.yaml')"
   ]
  },
  {
   "cell_type": "markdown",
   "metadata": {},
   "source": [
    "# 其他词库转换"
   ]
  },
  {
   "cell_type": "code",
   "execution_count": 27,
   "metadata": {},
   "outputs": [],
   "source": [
    "convert_pinyin('./dicts/base.dict.yaml', '../dicts/base.dict.yaml')\n",
    "convert_pinyin('./dicts/ext.dict.yaml', '../dicts/ext.dict.yaml')"
   ]
  }
 ],
 "metadata": {
  "kernelspec": {
   "display_name": "base",
   "language": "python",
   "name": "python3"
  },
  "language_info": {
   "codemirror_mode": {
    "name": "ipython",
    "version": 3
   },
   "file_extension": ".py",
   "mimetype": "text/x-python",
   "name": "python",
   "nbconvert_exporter": "python",
   "pygments_lexer": "ipython3",
   "version": "3.11.3"
  },
  "orig_nbformat": 4
 },
 "nbformat": 4,
 "nbformat_minor": 2
}
